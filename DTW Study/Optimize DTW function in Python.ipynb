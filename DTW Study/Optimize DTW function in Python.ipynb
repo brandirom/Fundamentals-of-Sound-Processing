{
 "cells": [
  {
   "cell_type": "code",
   "execution_count": 1,
   "id": "132807cc",
   "metadata": {},
   "outputs": [],
   "source": [
    "from matplotlib.patches import ConnectionPatch\n",
    "import matplotlib.pyplot as plt\n",
    "import numpy as np\n",
    "import scipy.spatial.distance as dist\n",
    "import time\n",
    "import librosa\n",
    "import libfmp.c3\n",
    "from numba import jit"
   ]
  },
  {
   "cell_type": "markdown",
   "id": "e705d428",
   "metadata": {},
   "source": [
    "# Testando a velocidade de funções DTW:"
   ]
  },
  {
   "cell_type": "markdown",
   "id": "34545f7d",
   "metadata": {},
   "source": [
    "# Codígo python:"
   ]
  },
  {
   "cell_type": "code",
   "execution_count": 2,
   "id": "23f75c8e",
   "metadata": {},
   "outputs": [],
   "source": [
    "def DTW(sinal_1,sinal_2):\n",
    "    #transformando o sinal em um array, caso seja dado uma lista\n",
    "    sinal_1=np.array(sinal_1)\n",
    "    sinal_2=np.array(sinal_2)\n",
    "    \n",
    "    #calculando a distancia entre cada amostra de um sinal ao outra:\n",
    "    N = sinal_1.shape[0]\n",
    "    M = sinal_2.shape[0]\n",
    "    matriz_distancia = np.zeros((N, M))\n",
    "    for i in range(N):\n",
    "        for j in range(M):\n",
    "            matriz_distancia[i, j] = abs(sinal_1[i] - sinal_2[j])\n",
    "    \n",
    "    # Iniciando a matriz de custo: (infinito pois não existe distancia entre o sinal e ele mesmo)\n",
    "    matriz_custo = np.zeros((N + 1, M + 1))\n",
    "    for i in range(1, N + 1):\n",
    "        matriz_custo[i, 0] = np.inf\n",
    "    for i in range(1, M + 1):\n",
    "        matriz_custo[0, i] = np.inf\n",
    "\n",
    "    # A parte mais importante está aqui: calculamos a matriz de custo mas criamos uma matriz auxiliar\n",
    "    # que carrega informações sobre qual posição o custo veio\n",
    "    optimal_warping_path  = np.zeros((N, M))\n",
    "    for i in range(N):\n",
    "        for j in range(M):\n",
    "            custo_anterior = [\n",
    "                matriz_custo[i, j],   #as amostras possuem tamanhos iguais\n",
    "                matriz_custo[i, j + 1], #adicionamos um caminho a uma amostra não esta alinhada porem possuem o mesmo valor\n",
    "                matriz_custo[i + 1, j]] #removemos uma amostra que não está alinhada pois iria um valor\n",
    "            i_custo_anterior = np.argmin(custo_anterior)\n",
    "            matriz_custo[i + 1, j + 1] = matriz_distancia[i, j] + custo_anterior[i_custo_anterior]\n",
    "            optimal_warping_path[i, j] = i_custo_anterior\n",
    "\n",
    "    # traçando o caminho da origem:\n",
    "    i = N - 1\n",
    "    j = M - 1\n",
    "    caminho = [(i, j)]\n",
    "    while i > 0 or j > 0:\n",
    "        OWT_tipo = optimal_warping_path[i, j]\n",
    "        if OWT_tipo == 0:\n",
    "            # iguais\n",
    "            i = i - 1\n",
    "            j = j - 1\n",
    "        elif OWT_tipo == 1:\n",
    "            # Adiciona\n",
    "            i = i - 1\n",
    "        elif OWT_tipo == 2:\n",
    "            # Deleta\n",
    "            j = j - 1\n",
    "        caminho.append((i, j))\n",
    "\n",
    "    # removendo infinito da matriz de custo:\n",
    "    matriz_custo = matriz_custo[1:, 1:]\n",
    "    return (matriz_distancia,caminho[::-1], matriz_custo)"
   ]
  },
  {
   "cell_type": "markdown",
   "id": "0d85f4ff",
   "metadata": {},
   "source": [
    "Agora vamos comparar o tempo de execução de cada um desses programas, para sinais de ordem $10$ a $10^4$."
   ]
  },
  {
   "cell_type": "markdown",
   "id": "e4ade2d8",
   "metadata": {},
   "source": [
    "# Python:"
   ]
  },
  {
   "cell_type": "code",
   "execution_count": 3,
   "id": "ce2e45ce",
   "metadata": {},
   "outputs": [],
   "source": [
    "np.random.seed(42)\n",
    "tempo_python=[]\n",
    "for i in range(1,5):\n",
    "    sinal_1 = np.random.randint(-10, 11, 10**i)\n",
    "    sinal_2 = np.random.randint(-10, 11, 10**i)\n",
    "    tempo_inicial = time.time()\n",
    "    DTW(sinal_1,sinal_2)\n",
    "    tempo_final = time.time()\n",
    "    tempo_python.append(tempo_final-tempo_inicial)"
   ]
  },
  {
   "cell_type": "markdown",
   "id": "bb9d1060",
   "metadata": {},
   "source": [
    "# Limbfmp:"
   ]
  },
  {
   "cell_type": "code",
   "execution_count": 4,
   "id": "9f6e7a8f",
   "metadata": {},
   "outputs": [],
   "source": [
    "tempo_libfmp=[]\n",
    "for i in range(1,5):\n",
    "    sinal_1 = np.random.randint(-10, 11, 10**i)\n",
    "    sinal_2 = np.random.randint(-10, 11, 10**i)\n",
    "    tempo_inicial = time.time()\n",
    "    C = libfmp.c3.compute_cost_matrix(sinal_1, sinal_2)\n",
    "    D = libfmp.c3.compute_accumulated_cost_matrix(C)\n",
    "    P = libfmp.c3.compute_optimal_warping_path(D)\n",
    "    tempo_final = time.time()\n",
    "    tempo_libfmp.append(tempo_final-tempo_inicial)"
   ]
  },
  {
   "cell_type": "markdown",
   "id": "996e9446",
   "metadata": {},
   "source": [
    "# Librosa:"
   ]
  },
  {
   "cell_type": "code",
   "execution_count": 5,
   "id": "2e3548bc",
   "metadata": {},
   "outputs": [],
   "source": [
    "tempo_librosa=[]\n",
    "for i in range(1,5):\n",
    "    sinal_1 = np.random.randint(-10, 11, 10**i)\n",
    "    sinal_2 = np.random.randint(-10, 11, 10**i)\n",
    "    tempo_inicial = time.time()\n",
    "    D, P = librosa.sequence.dtw(sinal_1, sinal_2, metric='euclidean', \n",
    "                            step_sizes_sigma=np.array([[1, 1], [0, 1], [1, 0]]),\n",
    "                            weights_add=np.array([0, 0, 0]), weights_mul=np.array([1, 1, 1]))\n",
    "    tempo_final = time.time()\n",
    "    tempo_librosa.append(tempo_final-tempo_inicial)"
   ]
  },
  {
   "cell_type": "markdown",
   "id": "dfcaffe9",
   "metadata": {},
   "source": [
    "# Código python com numba:"
   ]
  },
  {
   "cell_type": "code",
   "execution_count": 6,
   "id": "e1526568",
   "metadata": {},
   "outputs": [],
   "source": [
    "from numba import jit, njit\n",
    "import numpy as np\n",
    "\n",
    "@njit\n",
    "def compute_i_custo_anterior(custo_anterior):\n",
    "    i_custo_anterior = 0\n",
    "    min_custo_anterior = custo_anterior[0]\n",
    "    for k in range(1, 3):\n",
    "        if custo_anterior[k] < min_custo_anterior:\n",
    "            i_custo_anterior = k\n",
    "            min_custo_anterior = custo_anterior[k]\n",
    "    return i_custo_anterior\n",
    "\n",
    "@jit(nopython=True)\n",
    "def DTW_C(sinal_1, sinal_2):\n",
    "    N = sinal_1.shape[0]\n",
    "    M = sinal_2.shape[0]\n",
    "    matriz_distancia = np.zeros((N, M))\n",
    "\n",
    "    for i in range(N):\n",
    "        for j in range(M):\n",
    "            matriz_distancia[i, j] = abs(sinal_1[i] - sinal_2[j])\n",
    "\n",
    "    matriz_custo = np.zeros((N + 1, M + 1))\n",
    "    for i in range(1, N + 1):\n",
    "        matriz_custo[i, 0] = np.inf\n",
    "    for i in range(1, M + 1):\n",
    "        matriz_custo[0, i] = np.inf\n",
    "\n",
    "    optimal_warping_path = np.zeros((N, M))\n",
    "    for i in range(N):\n",
    "        for j in range(M):\n",
    "            custo_anterior = [\n",
    "                matriz_custo[i, j],\n",
    "                matriz_custo[i, j + 1],\n",
    "                matriz_custo[i + 1, j]\n",
    "            ]\n",
    "            i_custo_anterior = compute_i_custo_anterior(custo_anterior)\n",
    "            matriz_custo[i + 1, j + 1] = matriz_distancia[i, j] + custo_anterior[i_custo_anterior]\n",
    "            optimal_warping_path[i, j] = i_custo_anterior\n",
    "\n",
    "    i = N - 1\n",
    "    j = M - 1\n",
    "    caminho = [(i, j)]\n",
    "    while i > 0 or j > 0:\n",
    "        OWT_tipo = optimal_warping_path[i, j]\n",
    "        if OWT_tipo == 0:\n",
    "            i = i - 1\n",
    "            j = j - 1\n",
    "        elif OWT_tipo == 1:\n",
    "            i = i - 1\n",
    "        elif OWT_tipo == 2:\n",
    "            j = j - 1\n",
    "        caminho.append((i, j))\n",
    "\n",
    "    matriz_custo = matriz_custo[1:, 1:]\n",
    "    return (matriz_distancia, caminho[::-1], matriz_custo)"
   ]
  },
  {
   "cell_type": "code",
   "execution_count": 7,
   "id": "19863132",
   "metadata": {},
   "outputs": [],
   "source": [
    "np.random.seed(42)\n",
    "tempo_python_c=[]\n",
    "for i in range(1,5):\n",
    "    sinal_1 = np.random.randint(-10, 11, 10**i)\n",
    "    sinal_2 = np.random.randint(-10, 11, 10**i)\n",
    "    tempo_inicial = time.time()\n",
    "    DTW_C(sinal_1,sinal_2)\n",
    "    tempo_final = time.time()\n",
    "    tempo_python_c.append(tempo_final-tempo_inicial)"
   ]
  },
  {
   "cell_type": "markdown",
   "id": "085d95a3",
   "metadata": {},
   "source": [
    "# Grafico do tempo de resolução:"
   ]
  },
  {
   "cell_type": "code",
   "execution_count": 13,
   "id": "5fe47f92",
   "metadata": {},
   "outputs": [
    {
     "data": {
      "text/plain": [
       "<matplotlib.legend.Legend at 0x207ed4b9130>"
      ]
     },
     "execution_count": 13,
     "metadata": {},
     "output_type": "execute_result"
    },
    {
     "data": {
      "image/png": "[encoded data removed]",
      "text/plain": [
       "<Figure size 640x480 with 2 Axes>"
      ]
     },
     "metadata": {},
     "output_type": "display_data"
    }
   ],
   "source": [
    "valores_n = [1,2,3,4]\n",
    "fig,(x1,x2)=plt.subplots(1,2)\n",
    "x1.plot(valores_n, tempo_python, label = \"python\")\n",
    "x2.plot(valores_n, tempo_libfmp, label = \"libfmp\")\n",
    "x2.plot(valores_n, tempo_librosa, label = \"librosa\")\n",
    "x2.plot(valores_n, tempo_python_c, label = \"python_c\")\n",
    "x1.legend()\n",
    "x2.legend()"
   ]
  }
 ],
 "metadata": {
  "kernelspec": {
   "display_name": "Python 3 (ipykernel)",
   "language": "python",
   "name": "python3"
  },
  "language_info": {
   "codemirror_mode": {
    "name": "ipython",
    "version": 3
   },
   "file_extension": ".py",
   "mimetype": "text/x-python",
   "name": "python",
   "nbconvert_exporter": "python",
   "pygments_lexer": "ipython3",
   "version": "3.11.5"
  }
 },
 "nbformat": 4,
 "nbformat_minor": 5
}
